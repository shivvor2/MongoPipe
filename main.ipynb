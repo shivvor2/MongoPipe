{
 "cells": [
  {
   "cell_type": "markdown",
   "metadata": {},
   "source": [
    "# MongoDB data processing pipeline (Proof of concept)"
   ]
  },
  {
   "cell_type": "markdown",
   "metadata": {},
   "source": [
    "## Demo"
   ]
  },
  {
   "cell_type": "markdown",
   "metadata": {},
   "source": [
    "### Mock entries\n",
    "\n",
    "We made an example database to demonstrate the idea, an example entry has been provided below"
   ]
  },
  {
   "cell_type": "code",
   "execution_count": 1,
   "metadata": {},
   "outputs": [
    {
     "data": {
      "text/plain": [
       "{'id': 0,\n",
       " 'name': 'Alice Johnson',\n",
       " 'age': 30,\n",
       " 'email': 'alice.johnson@example.com',\n",
       " 'interests': ['python', 'data science', 'hiking'],\n",
       " 'address': {'street': '123 Oak St',\n",
       "  'city': 'San Francisco',\n",
       "  'country': 'USA'}}"
      ]
     },
     "execution_count": 1,
     "metadata": {},
     "output_type": "execute_result"
    }
   ],
   "source": [
    "from mock_entries import mock_entries\n",
    "\n",
    "mock_entries[0]"
   ]
  },
  {
   "cell_type": "markdown",
   "metadata": {},
   "source": [
    "### Demo functions"
   ]
  },
  {
   "cell_type": "markdown",
   "metadata": {},
   "source": [
    "For each entry, we perform the following operations, in sequence:\n",
    "1. Copy the entire entry\n",
    "2. Capitalize the interests\n",
    "3. Add the state code for the entry\n",
    "Some of them are hard coded, we will the capacity to use llms later"
   ]
  },
  {
   "cell_type": "code",
   "execution_count": 2,
   "metadata": {},
   "outputs": [],
   "source": [
    "def identity(doc: dict):\n",
    "    return doc\n",
    "\n",
    "def cap_interests(doc: dict):\n",
    "    capped_interests = [interest.capitalize() for interest in doc[\"interests\"]]\n",
    "    return {\"interests\": capped_interests}\n",
    "\n",
    "# Hard Coded, for demo purposes only\n",
    "def correct_city_and_state(doc: dict):\n",
    "    city = doc[\"address\"][\"city\"]\n",
    "    state_map = {\n",
    "        \"San Francisco\": \"CA\",\n",
    "        \"New York\": \"NY\",\n",
    "        \"Chicago\": \"IL\",\n",
    "        \"Los Angeles\": \"CA\",\n",
    "        \"Seattle\": \"WA\",\n",
    "        \"Boston\": \"MA\",\n",
    "        \"Houston\": \"TX\",\n",
    "        \"Miami\": \"FL\",\n",
    "        \"Austin\": \"TX\",\n",
    "        \"Portland\": \"OR\"\n",
    "    }\n",
    "    state = state_map.get(city, \"Unknown\")\n",
    "    return {\"address\": {\"state\": state}}"
   ]
  },
  {
   "cell_type": "markdown",
   "metadata": {},
   "source": [
    "### Demoing the pipeline"
   ]
  },
  {
   "cell_type": "markdown",
   "metadata": {},
   "source": [
    "#### Running the pipeline\n",
    "\n",
    "Start mongoDB first"
   ]
  },
  {
   "cell_type": "code",
   "execution_count": 5,
   "metadata": {},
   "outputs": [
    {
     "name": "stdout",
     "output_type": "stream",
     "text": [
      "Pipeline processing complete.\n"
     ]
    }
   ],
   "source": [
    "from pymongo import MongoClient\n",
    "from mongopipe.mongopipe import MongoPipe\n",
    "\n",
    "# Set up MongoDB connections\n",
    "client = MongoClient(\"mongodb://localhost:27017\")\n",
    "source_db = client[\"source_db\"]\n",
    "source_collection = source_db[\"source_collection\"]\n",
    "dest_db = client[\"dest_db\"]\n",
    "dest_collection = dest_db[\"processed_collection\"]\n",
    "\n",
    "# Clear existing data and insert mock entries\n",
    "source_collection.delete_many({})\n",
    "dest_collection.delete_many({})\n",
    "source_collection.insert_many(mock_entries)\n",
    "\n",
    "# Set up and run the pipeline\n",
    "ops = [identity, cap_interests, correct_city_and_state]\n",
    "pipe_instance = MongoPipe(source=source_collection, destination=dest_collection, ops=ops)\n",
    "pipe_instance.run()\n",
    "\n",
    "print(\"Pipeline processing complete.\")"
   ]
  },
  {
   "cell_type": "markdown",
   "metadata": {},
   "source": [
    "### Comparing entries"
   ]
  },
  {
   "cell_type": "code",
   "execution_count": 6,
   "metadata": {},
   "outputs": [],
   "source": [
    "def compare_entries(source_collection, dest_collection, entry_id):\n",
    "    old_entry = source_collection.find_one({\"id\": entry_id})\n",
    "    new_entry = dest_collection.find_one({\"id\": entry_id})\n",
    "    \n",
    "    if not old_entry or not new_entry:\n",
    "        print(f\"Entry with id {entry_id} not found in one or both collections.\")\n",
    "        return\n",
    "\n",
    "    print(f\"Comparing entries with ID: {entry_id}\")\n",
    "    print(\"Old entry:\")\n",
    "    print(old_entry)\n",
    "    print(\"\\nNew entry:\")\n",
    "    print(new_entry)\n",
    "    print(\"\\nDifferences:\")\n",
    "    \n",
    "    for key in set(old_entry.keys()) | set(new_entry.keys()):\n",
    "        if key not in old_entry:\n",
    "            print(f\"Added {key}: {new_entry[key]}\")\n",
    "        elif key not in new_entry:\n",
    "            print(f\"Removed {key}: {old_entry[key]}\")\n",
    "        elif old_entry[key] != new_entry[key]:\n",
    "            print(f\"Changed {key}:\")\n",
    "            print(f\"  From: {old_entry[key]}\")\n",
    "            print(f\"  To:   {new_entry[key]}\")"
   ]
  },
  {
   "cell_type": "code",
   "execution_count": 8,
   "metadata": {},
   "outputs": [
    {
     "name": "stdout",
     "output_type": "stream",
     "text": [
      "Comparing entries with ID: 0\n",
      "Old entry:\n",
      "{'_id': ObjectId('67162986f4f320d38153fb2e'), 'id': 0, 'name': 'Alice Johnson', 'age': 30, 'email': 'alice.johnson@example.com', 'interests': ['python', 'data science', 'hiking'], 'address': {'street': '123 Oak St', 'city': 'San Francisco', 'country': 'USA'}}\n",
      "\n",
      "New entry:\n",
      "{'_id': ObjectId('67162986f4f320d38153fb2e'), 'id': 0, 'name': 'Alice Johnson', 'age': 30, 'email': 'alice.johnson@example.com', 'interests': ['Python', 'Data science', 'Hiking'], 'address': {'street': '123 Oak St', 'city': 'San Francisco', 'country': 'USA', 'state': 'CA'}}\n",
      "\n",
      "Differences:\n",
      "Changed address:\n",
      "  From: {'street': '123 Oak St', 'city': 'San Francisco', 'country': 'USA'}\n",
      "  To:   {'street': '123 Oak St', 'city': 'San Francisco', 'country': 'USA', 'state': 'CA'}\n",
      "Changed interests:\n",
      "  From: ['python', 'data science', 'hiking']\n",
      "  To:   ['Python', 'Data science', 'Hiking']\n"
     ]
    }
   ],
   "source": [
    "compare_entries(source_collection, dest_collection, 0)"
   ]
  },
  {
   "cell_type": "code",
   "execution_count": 9,
   "metadata": {},
   "outputs": [
    {
     "name": "stdout",
     "output_type": "stream",
     "text": [
      "Comparing entries with ID: 5\n",
      "Old entry:\n",
      "{'_id': ObjectId('67162986f4f320d38153fb33'), 'id': 5, 'name': 'Fiona Gallagher', 'age': 25, 'email': 'fiona.gallagher@example.com', 'interests': ['bartending', 'family', 'survival skills'], 'address': {'street': '303 Birch Ln', 'city': 'Boston', 'country': 'USA'}}\n",
      "\n",
      "New entry:\n",
      "{'_id': ObjectId('67162986f4f320d38153fb33'), 'id': 5, 'name': 'Fiona Gallagher', 'age': 25, 'email': 'fiona.gallagher@example.com', 'interests': ['Bartending', 'Family', 'Survival skills'], 'address': {'street': '303 Birch Ln', 'city': 'Boston', 'country': 'USA', 'state': 'MA'}}\n",
      "\n",
      "Differences:\n",
      "Changed address:\n",
      "  From: {'street': '303 Birch Ln', 'city': 'Boston', 'country': 'USA'}\n",
      "  To:   {'street': '303 Birch Ln', 'city': 'Boston', 'country': 'USA', 'state': 'MA'}\n",
      "Changed interests:\n",
      "  From: ['bartending', 'family', 'survival skills']\n",
      "  To:   ['Bartending', 'Family', 'Survival skills']\n"
     ]
    }
   ],
   "source": [
    "compare_entries(source_collection, dest_collection, 5)"
   ]
  },
  {
   "cell_type": "markdown",
   "metadata": {},
   "source": [
    "### Demoing LLM capabilities"
   ]
  },
  {
   "cell_type": "markdown",
   "metadata": {},
   "source": [
    "#### Use LLM to help us format (and add) city and state"
   ]
  },
  {
   "cell_type": "code",
   "execution_count": null,
   "metadata": {},
   "outputs": [],
   "source": [
    "from dotenv import load_dotenv\n",
    "import os\n",
    "import instructor\n",
    "from openai import OpenAI\n",
    "\n",
    "from mongopipe.demo_func.get_city_and_state_llm import get_city_and_state_func\n",
    "\n",
    "load_dotenv()\n",
    "\n",
    "client_args = {\n",
    "    \"model\": \"meta-llama/llama-3.2-3b-instruct\",\n",
    "    \"temperature\": 0.3, # To tune\n",
    "}\n",
    "\n",
    "\n",
    "client = OpenAI(\n",
    "        base_url=\"https://openrouter.ai/api/v1\",\n",
    "        api_key=os.getenv(\"OPENROUTER_API_KEY\"),  # required, but unused\n",
    "    )\n",
    "\n",
    "structured_client = instructor.from_openai(\n",
    "    client,\n",
    "    mode=instructor.Mode.JSON,\n",
    ")\n",
    "\n",
    "correct_city_and_state_llm = get_city_and_state_func(structured_client, client_args)"
   ]
  },
  {
   "cell_type": "markdown",
   "metadata": {},
   "source": [
    "#### Importing mock entries (again)\n",
    "\n",
    "This time, we add an additional example to the thing"
   ]
  },
  {
   "cell_type": "code",
   "execution_count": null,
   "metadata": {},
   "outputs": [],
   "source": [
    "from mock_entries import mock_entries\n",
    "\n",
    "wrong_city_spelling = {\n",
    "    \"id\": 10,\n",
    "    \"name\": \"Kevin Malone\",\n",
    "    \"age\": 42,\n",
    "    \"email\": \"kevin.malone@example.com\",\n",
    "    \"interests\": [\"accounting\", \"cooking\", \"basketball\"],\n",
    "    \"address\": {\n",
    "        \"street\": \"808 Maple Drive\",\n",
    "        \"city\": \"Scranten\",  # Misspelled, should be \"Scranton\"\n",
    "        \"country\": \"USA\"\n",
    "    }\n",
    "}\n",
    "\n",
    "new_mock_entries = mock_entries.append(wrong_city_spelling)\n",
    "\n",
    "new_mock_entries[-1]"
   ]
  },
  {
   "cell_type": "code",
   "execution_count": null,
   "metadata": {},
   "outputs": [],
   "source": [
    "from pymongo import MongoClient\n",
    "from mongopipe.mongopipe import MongoPipe\n",
    "\n",
    "# Set up MongoDB connections\n",
    "client = MongoClient(\"mongodb://localhost:27017\")\n",
    "source_db = client[\"source_db\"]\n",
    "source_collection = source_db[\"source_collection\"]\n",
    "dest_db = client[\"dest_db\"]\n",
    "dest_collection = dest_db[\"processed_collection\"]\n",
    "\n",
    "# Clear existing data and insert mock entries\n",
    "source_collection.delete_many({})\n",
    "dest_collection.delete_many({})\n",
    "source_collection.insert_many(mock_entries)\n",
    "\n",
    "# Set up and run the pipeline\n",
    "ops = [identity, cap_interests, correct_city_and_state_llm]\n",
    "pipe_instance = MongoPipe(source=source_collection, destination=dest_collection, ops=ops)\n",
    "pipe_instance.run()\n",
    "\n",
    "print(\"Pipeline processing complete.\")"
   ]
  },
  {
   "cell_type": "code",
   "execution_count": null,
   "metadata": {},
   "outputs": [],
   "source": [
    "compare_entries(source_collection, dest_collection, 10)"
   ]
  }
 ],
 "metadata": {
  "kernelspec": {
   "display_name": "mongoDB-pipeline",
   "language": "python",
   "name": "python3"
  },
  "language_info": {
   "codemirror_mode": {
    "name": "ipython",
    "version": 3
   },
   "file_extension": ".py",
   "mimetype": "text/x-python",
   "name": "python",
   "nbconvert_exporter": "python",
   "pygments_lexer": "ipython3",
   "version": "3.13.0"
  }
 },
 "nbformat": 4,
 "nbformat_minor": 2
}
